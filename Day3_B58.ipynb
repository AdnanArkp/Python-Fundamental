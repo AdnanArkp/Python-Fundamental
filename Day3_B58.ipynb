{
 "cells": [
  {
   "cell_type": "code",
   "execution_count": 1,
   "id": "68732f16",
   "metadata": {},
   "outputs": [
    {
     "name": "stdout",
     "output_type": "stream",
     "text": [
      "Adnan Shaikh\n"
     ]
    }
   ],
   "source": [
    "full_name=\"Adnan Shaikh\"\n",
    "print(full_name)"
   ]
  },
  {
   "cell_type": "code",
   "execution_count": 2,
   "id": "1897cd39",
   "metadata": {},
   "outputs": [
    {
     "name": "stdout",
     "output_type": "stream",
     "text": [
      "ADNAN SHAIKH\n"
     ]
    }
   ],
   "source": [
    "print(full_name.upper())"
   ]
  },
  {
   "cell_type": "code",
   "execution_count": 3,
   "id": "0e10bd5c",
   "metadata": {},
   "outputs": [
    {
     "name": "stdout",
     "output_type": "stream",
     "text": [
      "adnan shaikh\n"
     ]
    }
   ],
   "source": [
    "print(full_name.lower())"
   ]
  },
  {
   "cell_type": "code",
   "execution_count": null,
   "id": "872cc741",
   "metadata": {},
   "outputs": [],
   "source": [
    "# general syntax of an f string\n"
   ]
  },
  {
   "cell_type": "code",
   "execution_count": 4,
   "id": "9e2f6467",
   "metadata": {},
   "outputs": [
    {
     "name": "stdout",
     "output_type": "stream",
     "text": [
      "Adnan Shaikh\n"
     ]
    }
   ],
   "source": [
    "first_name=\"Adnan\"\n",
    "last_name=\"Shaikh\"\n",
    "full_name= f\"{first_name} {last_name}\"\n",
    "print(full_name)"
   ]
  },
  {
   "cell_type": "code",
   "execution_count": 5,
   "id": "a576845d",
   "metadata": {},
   "outputs": [],
   "source": [
    "message=f\"Hi complete your PhD as early as possible {full_name}\""
   ]
  },
  {
   "cell_type": "code",
   "execution_count": 6,
   "id": "768eb9b3",
   "metadata": {},
   "outputs": [
    {
     "name": "stdout",
     "output_type": "stream",
     "text": [
      "Hi complete your PhD as early as possible Adnan Shaikh\n"
     ]
    }
   ],
   "source": [
    "print(message)"
   ]
  },
  {
   "cell_type": "code",
   "execution_count": null,
   "id": "beb1e442",
   "metadata": {},
   "outputs": [],
   "source": [
    "# Adding white spaces"
   ]
  },
  {
   "cell_type": "code",
   "execution_count": 7,
   "id": "3831eab0",
   "metadata": {},
   "outputs": [
    {
     "name": "stdout",
     "output_type": "stream",
     "text": [
      "Favourite_language,Python,Java,C,C++\n"
     ]
    }
   ],
   "source": [
    "print(\"Favourite_language,Python,Java,C,C++\")"
   ]
  },
  {
   "cell_type": "code",
   "execution_count": 8,
   "id": "4143e374",
   "metadata": {},
   "outputs": [
    {
     "name": "stdout",
     "output_type": "stream",
     "text": [
      "Favourite_language,\n",
      "\\Python,\n",
      "\\Java,\n",
      "\\C,\n",
      "\\C++\n"
     ]
    }
   ],
   "source": [
    "print(\"Favourite_language,\\n\\Python,\\n\\Java,\\n\\C,\\n\\C++\")"
   ]
  },
  {
   "cell_type": "code",
   "execution_count": 9,
   "id": "c6b82f78",
   "metadata": {},
   "outputs": [
    {
     "name": "stdout",
     "output_type": "stream",
     "text": [
      "Favourite_language,\n",
      "Python,\n",
      "Java,\n",
      "C,\n",
      "C++\n"
     ]
    }
   ],
   "source": [
    "print(\"Favourite_language,\\nPython,\\nJava,\\nC,\\nC++\")"
   ]
  },
  {
   "cell_type": "code",
   "execution_count": 10,
   "id": "5b05c117",
   "metadata": {},
   "outputs": [
    {
     "name": "stdout",
     "output_type": "stream",
     "text": [
      "Favourite_language,\n",
      "\tPython,\n",
      "\tJava,\n",
      "\tC,\n",
      "\tC++\n"
     ]
    }
   ],
   "source": [
    "print(\"Favourite_language,\\n\\tPython,\\n\\tJava,\\n\\tC,\\n\\tC++\")"
   ]
  },
  {
   "cell_type": "code",
   "execution_count": null,
   "id": "3f73b0c6",
   "metadata": {},
   "outputs": [],
   "source": []
  }
 ],
 "metadata": {
  "kernelspec": {
   "display_name": "Python 3 (ipykernel)",
   "language": "python",
   "name": "python3"
  },
  "language_info": {
   "codemirror_mode": {
    "name": "ipython",
    "version": 3
   },
   "file_extension": ".py",
   "mimetype": "text/x-python",
   "name": "python",
   "nbconvert_exporter": "python",
   "pygments_lexer": "ipython3",
   "version": "3.9.7"
  }
 },
 "nbformat": 4,
 "nbformat_minor": 5
}
