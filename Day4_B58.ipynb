{
 "cells": [
  {
   "cell_type": "code",
   "execution_count": 1,
   "id": "cb236746",
   "metadata": {},
   "outputs": [
    {
     "name": "stdout",
     "output_type": "stream",
     "text": [
      "kia,maruti,bmw,audi,mahindra\n"
     ]
    }
   ],
   "source": [
    "cars=\"kia,maruti,bmw,audi,mahindra\"\n",
    "print(cars)"
   ]
  },
  {
   "cell_type": "code",
   "execution_count": 2,
   "id": "396442ab",
   "metadata": {},
   "outputs": [
    {
     "name": "stdout",
     "output_type": "stream",
     "text": [
      "[',', ',', ',', ',', 'a', 'a', 'a', 'a', 'a', 'b', 'd', 'd', 'h', 'i', 'i', 'i', 'i', 'k', 'm', 'm', 'm', 'n', 'r', 'r', 't', 'u', 'u', 'w']\n"
     ]
    }
   ],
   "source": [
    "print(sorted(cars))"
   ]
  },
  {
   "cell_type": "code",
   "execution_count": 3,
   "id": "f16c1386",
   "metadata": {},
   "outputs": [
    {
     "name": "stdout",
     "output_type": "stream",
     "text": [
      "[',', ',', ',', ',', 'a', 'a', 'a', 'a', 'a', 'b', 'd', 'd', 'h', 'i', 'i', 'i', 'i', 'k', 'm', 'm', 'm', 'n', 'r', 'r', 't', 'u', 'u', 'w']\n"
     ]
    }
   ],
   "source": [
    "print(sorted(cars))\n"
   ]
  },
  {
   "cell_type": "code",
   "execution_count": 4,
   "id": "24a95a8e",
   "metadata": {},
   "outputs": [
    {
     "name": "stdout",
     "output_type": "stream",
     "text": [
      "kia,maruti,bmw,audi,mahindra\n"
     ]
    }
   ],
   "source": [
    "print(cars)"
   ]
  },
  {
   "cell_type": "code",
   "execution_count": 5,
   "id": "0b207394",
   "metadata": {},
   "outputs": [
    {
     "name": "stdout",
     "output_type": "stream",
     "text": [
      "['kia,maruti,bmw,audi,mahindra']\n"
     ]
    }
   ],
   "source": [
    "cars=[\"kia,maruti,bmw,audi,mahindra\"]\n",
    "print(sorted(cars))"
   ]
  },
  {
   "cell_type": "code",
   "execution_count": 6,
   "id": "5d8042e2",
   "metadata": {},
   "outputs": [
    {
     "name": "stdout",
     "output_type": "stream",
     "text": [
      "['kia,maruti,bmw,audi,mahindra']\n"
     ]
    }
   ],
   "source": [
    "print(cars)"
   ]
  },
  {
   "cell_type": "code",
   "execution_count": 7,
   "id": "608163ec",
   "metadata": {},
   "outputs": [
    {
     "name": "stdout",
     "output_type": "stream",
     "text": [
      "['kia', 'maruti', 'bmw', 'audi', 'mahindra']\n"
     ]
    }
   ],
   "source": [
    "cars=['kia','maruti','bmw','audi','mahindra']\n",
    "print(cars)"
   ]
  },
  {
   "cell_type": "code",
   "execution_count": 8,
   "id": "9ab24f05",
   "metadata": {},
   "outputs": [
    {
     "name": "stdout",
     "output_type": "stream",
     "text": [
      "['audi', 'bmw', 'kia', 'mahindra', 'maruti']\n"
     ]
    }
   ],
   "source": [
    "print(sorted(cars))"
   ]
  },
  {
   "cell_type": "code",
   "execution_count": 9,
   "id": "8dd65af3",
   "metadata": {},
   "outputs": [
    {
     "name": "stdout",
     "output_type": "stream",
     "text": [
      "['audi', 'bmw', 'kia', 'mahindra', 'maruti']\n"
     ]
    }
   ],
   "source": [
    "cars.sort()\n",
    "print(cars)"
   ]
  },
  {
   "cell_type": "code",
   "execution_count": 10,
   "id": "c8ce2b55",
   "metadata": {},
   "outputs": [
    {
     "name": "stdout",
     "output_type": "stream",
     "text": [
      "['maruti', 'mahindra', 'kia', 'bmw', 'audi']\n"
     ]
    }
   ],
   "source": [
    "cars.reverse()\n",
    "print(cars)"
   ]
  },
  {
   "cell_type": "code",
   "execution_count": 11,
   "id": "9615b855",
   "metadata": {},
   "outputs": [
    {
     "data": {
      "text/plain": [
       "list"
      ]
     },
     "execution_count": 11,
     "metadata": {},
     "output_type": "execute_result"
    }
   ],
   "source": [
    "type(cars)"
   ]
  },
  {
   "cell_type": "code",
   "execution_count": 12,
   "id": "43e00dbb",
   "metadata": {},
   "outputs": [
    {
     "name": "stdout",
     "output_type": "stream",
     "text": [
      "['maruti']\n"
     ]
    }
   ],
   "source": [
    "print(cars[0:1])"
   ]
  },
  {
   "cell_type": "code",
   "execution_count": 13,
   "id": "3bc0e306",
   "metadata": {},
   "outputs": [
    {
     "name": "stdout",
     "output_type": "stream",
     "text": [
      "['maruti', 'mahindra', 'kia']\n"
     ]
    }
   ],
   "source": [
    "print(cars[0:3])"
   ]
  },
  {
   "cell_type": "code",
   "execution_count": 14,
   "id": "4de4cfbb",
   "metadata": {},
   "outputs": [
    {
     "name": "stdout",
     "output_type": "stream",
     "text": [
      "['bmw', 'audi']\n"
     ]
    }
   ],
   "source": [
    "print(cars[3:5])"
   ]
  },
  {
   "cell_type": "code",
   "execution_count": null,
   "id": "53f178b4",
   "metadata": {},
   "outputs": [],
   "source": []
  }
 ],
 "metadata": {
  "kernelspec": {
   "display_name": "Python 3 (ipykernel)",
   "language": "python",
   "name": "python3"
  },
  "language_info": {
   "codemirror_mode": {
    "name": "ipython",
    "version": 3
   },
   "file_extension": ".py",
   "mimetype": "text/x-python",
   "name": "python",
   "nbconvert_exporter": "python",
   "pygments_lexer": "ipython3",
   "version": "3.9.7"
  }
 },
 "nbformat": 4,
 "nbformat_minor": 5
}
